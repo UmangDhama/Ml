{
 "cells": [
  {
   "cell_type": "code",
   "execution_count": 2,
   "id": "8c9dc7a2",
   "metadata": {},
   "outputs": [],
   "source": [
    "from joblib import dump, load\n",
    "import numpy as np\n",
    "model=load('Dragon.joblib')"
   ]
  },
  {
   "cell_type": "code",
   "execution_count": null,
   "id": "64ddcfab",
   "metadata": {},
   "outputs": [],
   "source": [
    "input=np.array([-0.44230647,  3.18716752, -1.12669699, -0.27288841, -1.42019852,\n",
    "       -0.54666943, -1.7372291 ,  2.56306103, -0.99293673, -0.57167103,\n",
    "       -0.99480936,  0.4386066 , -0.49636234])"
   ]
  }
 ],
 "metadata": {
  "kernelspec": {
   "display_name": "Python 3 (ipykernel)",
   "language": "python",
   "name": "python3"
  },
  "language_info": {
   "codemirror_mode": {
    "name": "ipython",
    "version": 3
   },
   "file_extension": ".py",
   "mimetype": "text/x-python",
   "name": "python",
   "nbconvert_exporter": "python",
   "pygments_lexer": "ipython3",
   "version": "3.9.0"
  }
 },
 "nbformat": 4,
 "nbformat_minor": 5
}
